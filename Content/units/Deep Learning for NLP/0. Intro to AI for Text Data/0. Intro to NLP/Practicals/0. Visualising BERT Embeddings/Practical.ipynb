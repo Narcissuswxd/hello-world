{
  "cells": [
    {
      "cell_type": "markdown",
      "metadata": {
        "id": "view-in-github",
        "colab_type": "text"
      },
      "source": [
        "<a href=\"https://colab.research.google.com/github/Narcissuswxd/hello-world/blob/master/Content/units/Deep%20Learning%20for%20NLP/0.%20Intro%20to%20AI%20for%20Text%20Data/0.%20Intro%20to%20NLP/Practicals/0.%20Visualising%20BERT%20Embeddings/Practical.ipynb\" target=\"_parent\"><img src=\"https://colab.research.google.com/assets/colab-badge.svg\" alt=\"Open In Colab\"/></a>"
      ]
    },
    {
      "cell_type": "markdown",
      "metadata": {
        "id": "KsmSEHY99kpC"
      },
      "source": [
        "# Visualising Embeddings with BERT\n",
        "\n",
        "BERT is one of the most influential machine learning models. It is a pre-trained language model developed by Google that can be fine-tuned for a wide range of natural language processing tasks. BERT uses a transformer architecture and is trained on massive amounts of text data, allowing it to understand the context and meaning of words in a sentence.\n",
        "\n",
        "It's not important to understand BERT in detail at this point, but for now:\n",
        "\n",
        "- BERT stands for Bidirectional Encoding Representations using Transformers.\n",
        "- It is trained to fill in the missing word in text.\n",
        "- It contains the word embeddings within its first layer's parameters. These BERT embeddings are widely used as a good starting point for word embeddings.\n",
        "\n",
        "We will talk about BERT more later, but we can already start using it."
      ]
    },
    {
      "cell_type": "code",
      "execution_count": 1,
      "metadata": {
        "colab": {
          "base_uri": "https://localhost:8080/"
        },
        "id": "124d3556",
        "outputId": "0aea38d4-5045-4766-b61d-cfc566d8089a"
      },
      "outputs": [
        {
          "output_type": "stream",
          "name": "stdout",
          "text": [
            "\u001b[2K     \u001b[90m━━━━━━━━━━━━━━━━━━━━━━━━━━━━━━━━━━━━━━━━\u001b[0m \u001b[32m6.3/6.3 MB\u001b[0m \u001b[31m53.5 MB/s\u001b[0m eta \u001b[36m0:00:00\u001b[0m\n",
            "\u001b[2K     \u001b[90m━━━━━━━━━━━━━━━━━━━━━━━━━━━━━━━━━━━━━━\u001b[0m \u001b[32m190.3/190.3 KB\u001b[0m \u001b[31m11.8 MB/s\u001b[0m eta \u001b[36m0:00:00\u001b[0m\n",
            "\u001b[2K     \u001b[90m━━━━━━━━━━━━━━━━━━━━━━━━━━━━━━━━━━━━━━━━\u001b[0m \u001b[32m7.6/7.6 MB\u001b[0m \u001b[31m43.2 MB/s\u001b[0m eta \u001b[36m0:00:00\u001b[0m\n",
            "\u001b[?25h"
          ]
        }
      ],
      "source": [
        "#@title # Run the following cell to install the necessary libraries for this practical. { display-mode: \"form\" } \n",
        "#@markdown Don't worry about what's in this collapsed cell\n",
        "\n",
        "!pip install -q transformers\n"
      ]
    },
    {
      "cell_type": "code",
      "execution_count": 3,
      "metadata": {
        "colab": {
          "base_uri": "https://localhost:8080/",
          "height": 155,
          "referenced_widgets": [
            "bcd0a0c2da7945638e28e14338a3c29b",
            "a2bfb765049b4c3bbc8db2fc403fec0c",
            "38c3eddb896047e48eefbe906c83c174",
            "990b05cce4eb4dbe939a86467d74febb",
            "0a6e6c0d3279469f83428996d2275a19",
            "2f732a4989134469aa00097d448e5a60",
            "33d755969990423b89ae41675909b845",
            "c8ea2a9da8a14d529f226053da23693b",
            "9995e6f4c68f41979990e57fafb0de51",
            "28d38bf1820f480f8b6f8916a7fb7d68",
            "208ee5f4945e409ea43ea7e0206a3d2e",
            "024d471429e34e4fb2e0f483438dbd7a",
            "11b6c262fdb74be4bcbeeb878cba3f2f",
            "7895fbc3c1174e50a1bf4603c63d417f",
            "bb9bb4d320ee4e48b2d6318cdc513b94",
            "7108d084e7ad43f8bb3fc0b07a7debeb",
            "50c805bf01ed4b9382db4192a74f7cd1",
            "821076f21e5a4cdfaff4f6c9f6cddf9f",
            "4dc7db01195442c7b9c8006e2c43831e",
            "6ffb6056699c45298e94b58fa9859b80",
            "20edeb3fc5da4e14ae7b22cd15692395",
            "98e76f1796d842e2b59ceb25574ec2e1"
          ]
        },
        "id": "UUpVbeP_9kpI",
        "outputId": "e0169c24-867b-4a5c-9ef3-05c559151946"
      },
      "outputs": [
        {
          "output_type": "display_data",
          "data": {
            "text/plain": [
              "Downloading (…)lve/main/config.json:   0%|          | 0.00/570 [00:00<?, ?B/s]"
            ],
            "application/vnd.jupyter.widget-view+json": {
              "version_major": 2,
              "version_minor": 0,
              "model_id": "bcd0a0c2da7945638e28e14338a3c29b"
            }
          },
          "metadata": {}
        },
        {
          "output_type": "display_data",
          "data": {
            "text/plain": [
              "Downloading (…)\"pytorch_model.bin\";:   0%|          | 0.00/440M [00:00<?, ?B/s]"
            ],
            "application/vnd.jupyter.widget-view+json": {
              "version_major": 2,
              "version_minor": 0,
              "model_id": "024d471429e34e4fb2e0f483438dbd7a"
            }
          },
          "metadata": {}
        },
        {
          "output_type": "stream",
          "name": "stderr",
          "text": [
            "Some weights of the model checkpoint at bert-base-uncased were not used when initializing BertModel: ['cls.predictions.bias', 'cls.predictions.transform.LayerNorm.bias', 'cls.predictions.transform.dense.bias', 'cls.predictions.transform.LayerNorm.weight', 'cls.seq_relationship.bias', 'cls.predictions.transform.dense.weight', 'cls.seq_relationship.weight', 'cls.predictions.decoder.weight']\n",
            "- This IS expected if you are initializing BertModel from the checkpoint of a model trained on another task or with another architecture (e.g. initializing a BertForSequenceClassification model from a BertForPreTraining model).\n",
            "- This IS NOT expected if you are initializing BertModel from the checkpoint of a model that you expect to be exactly identical (initializing a BertForSequenceClassification model from a BertForSequenceClassification model).\n"
          ]
        }
      ],
      "source": [
        "# Run this cell to import the BERT model\n",
        "from transformers import BertModel\n",
        "\n",
        "model_name = 'bert-base-uncased'\n",
        "model = BertModel.from_pretrained(model_name)"
      ]
    },
    {
      "cell_type": "markdown",
      "metadata": {
        "id": "EegDIOF49kpJ"
      },
      "source": [
        "You can see the parameters that the model contains by printing its modules attribute. Run the code in the cell below and look at the output. \n",
        "- Can you find out how many embeddings the `BERT` model contains?\n",
        "- Can you find the size of the output layer? "
      ]
    },
    {
      "cell_type": "code",
      "execution_count": null,
      "metadata": {
        "id": "EEZy7Q1n9kpJ"
      },
      "outputs": [],
      "source": [
        "print(model.modules)\n",
        "\n",
        "# TODO - How many embeddings does BERT contain?\n",
        "# TODO - What is the size of the output layer?\n"
      ]
    },
    {
      "cell_type": "markdown",
      "metadata": {
        "id": "O1oprGmW9kpK"
      },
      "source": [
        "You can see that the very first layer is the embedding layer. The parameters of this layer are the embeddings for the thousands of words which BERT recognises.\n",
        "\n",
        "Now, let's get those embeddings. In the code block below:\n",
        "\n",
        "- Create a variable called `n_embeddings`, equal to the number of embeddings that you found in the model's `modules` attribute.\n",
        "- Add a statement to print the shape of the embedding matrix."
      ]
    },
    {
      "cell_type": "code",
      "execution_count": null,
      "metadata": {
        "id": "-Si5-VF69kpK"
      },
      "outputs": [],
      "source": [
        "# TODO - Create a variable called n_embeddings, equal to the number of embeddings in the BERT model.\n",
        "\n",
        "n_embeddings=30000\n",
        "embedding_matrix = model.embeddings.word_embeddings.weight.detach()\n",
        "embedding_matrix = embedding_matrix[:n_embeddings]\n",
        "\n",
        "\n",
        "# TODO  - print the shape of the word embeddings matrix.\n"
      ]
    },
    {
      "cell_type": "markdown",
      "metadata": {
        "id": "3_2IVV159kpL"
      },
      "source": [
        "Now we have the embedding matrix, but we don't know which word each of those embeddings correspond to. This is where we need to use the vocab to map from the index of the word (its row in the embedding matrix) to the word itself.\n",
        "\n",
        "In `HuggingFace` `transformers` models, the vocab is accessible through the tokeniser. In the same way that we loaded in a pre-trained `BERT` model, we can load in the corresponding tokeniser.\n",
        "\n",
        "Check out the docs [here](https://huggingface.co/docs/transformers/main_classes/tokenizer).\n",
        "\n",
        "In the codeblock below, we can explore the tokenisation process:\n",
        "\n",
        "- Define a variable called 'sentence', consisting of a sentence of your choice inside a string.\n",
        "- Encode the sentence using the tokenizer's `encode` method, assigning the output to a variable called `tokens`.\n",
        "- Print the tokens.\n",
        "- Print the number of words in your original sentence.\n",
        "- Print the length of the `tokens` variable. How does it compare to the sentence?"
      ]
    },
    {
      "cell_type": "code",
      "execution_count": 6,
      "metadata": {
        "colab": {
          "base_uri": "https://localhost:8080/"
        },
        "id": "1BvbF8sF9kpM",
        "outputId": "6a3377f7-4b2a-4409-bb06-46592f4a3eec"
      },
      "outputs": [
        {
          "output_type": "stream",
          "name": "stdout",
          "text": [
            "[101, 7592, 2088, 1998, 6160, 102]\n",
            "[CLS] hello world and welcome [SEP]\n"
          ]
        }
      ],
      "source": [
        "from transformers import BertTokenizer\n",
        "\n",
        "bert_tokenizer = BertTokenizer.from_pretrained(model_name)\n",
        "sentence = \"hello world and welcome\"\n",
        "tokens = bert_tokenizer.encode(sentence)\n",
        "print(tokens)\n",
        "print(bert_tokenizer.decode(tokens))\n",
        "\n",
        "# TODO Define a variable called 'sentence', consisting of a sentence of your choice inside a string.\n",
        "# TODO Encode the sentence using the tokenizer's `encode` method.\n",
        "# TODO Print the tokens.\n",
        "# TODO Print the number of words in the sentence.\n",
        "# TODO Print the length of the tokens. How does it compare to the sentence?\n"
      ]
    },
    {
      "cell_type": "markdown",
      "metadata": {
        "id": "suDLmd-W9kpN"
      },
      "source": [
        "We can also decode a string of tokens using the tokeniser's `decode` method. \n",
        "\n",
        "In the cell below:\n",
        "- Create a for-loop that steps through the tokens in `tokens` and prints each on a new line."
      ]
    },
    {
      "cell_type": "code",
      "execution_count": null,
      "metadata": {
        "id": "7NfettBG9kpN"
      },
      "outputs": [],
      "source": [
        "\n",
        "# TODO Create a for-loop that steps through the tokens in `tokens` and prints each on a new line.\n",
        "\n",
        "\n"
      ]
    },
    {
      "cell_type": "markdown",
      "metadata": {
        "id": "1e5dwXT29kpO"
      },
      "source": [
        "Depending on your sentence, you might see a variety of different token values, Most of them will be full words, but some will be word fragments, with prefixes and suffixes denoted by leading or trailing `#` symbols.\n",
        "\n",
        "Regardless of the sentence you chose, you can see that it starts and ends with a pair of special tokens:\n",
        "\n",
        "`[CLS]` - Is a special token that is used to represent the entire input sequence in a single vector. It is used for classification tasks, and always appears at the start of a body of text.\n",
        "\n",
        "`[SEP]` - Is a separator token. This token allows the model to distinguish between the two sequences and learn their relationships separately. For example it could be placed between two sentences.\n",
        "\n",
        "\n"
      ]
    },
    {
      "cell_type": "markdown",
      "metadata": {
        "id": "txwT2OEL9kpO"
      },
      "source": [
        "So far we have examined how a sentence is split up into different tokens with the tokeniser, and we know that the relationships between tokens are parsed into embeddings. Now let's attempt to visualise these embeddings. The embeddings themselves are of very high dimensionality (equal to the size of the output layer of `BERT`), but we can attempt to visualise a 3D projection of them. \n",
        "\n",
        "Run the code block below to label the embeddings according to three feature dimensions:\n",
        "- Length\n",
        "- Number of vowels\n",
        "- Whether the token is a number"
      ]
    },
    {
      "cell_type": "code",
      "execution_count": null,
      "metadata": {
        "id": "Bepv5_GX9kpP"
      },
      "outputs": [],
      "source": [
        "from torch.utils.tensorboard import SummaryWriter\n",
        "from time import time\n",
        "import tensorboard as tb\n",
        "import tensorflow as tf\n",
        "tf.io.gfile = tb.compat.tensorflow_stub.io.gfile\n",
        "\n",
        "n_embeddings=30000\n",
        "embedding_matrix=embedding_matrix[:n_embeddings]\n",
        "def create_embedding_labels():\n",
        "    # ADD NEW COLS\n",
        "    label_functions = {\n",
        "        \"Length\": lambda word: len(word),\n",
        "        \"# vowels\": lambda word: len([char for char in word if char in \"aeiou\"]),\n",
        "        \"is number\": lambda word: word.isdigit(), # boolean label for numbers\n",
        "        # \"is preposition\": lambda word: word in prepositions\n",
        "    }\n",
        "    labels = [\n",
        "        [\n",
        "            word,\n",
        "            *[label_function(word) for label_function in label_functions.values()]\n",
        "        ]\n",
        "        for word in list(bert_tokenizer.ids_to_tokens.values())[:n_embeddings]\n",
        "    ]\n",
        "\n",
        "    label_names = [\"Word\", *list(label_functions.keys())]\n",
        "\n",
        "    return labels, label_names\n",
        "\n",
        "\n",
        "def visualise_embeddings(embeddings, labels=None, label_names=\"Label\"):\n",
        "    print(\"Embedding\")\n",
        "\n",
        "    writer = SummaryWriter()\n",
        "    start = time()\n",
        "    writer.add_embedding(\n",
        "        mat=embeddings,\n",
        "        metadata=labels,\n",
        "        metadata_header=label_names\n",
        "    )\n",
        "    print(f\"Total time:\", time() - start)\n",
        "\n",
        "    print(\"Embedding done\")\n",
        "\n",
        "labels, label_names = create_embedding_labels()\n",
        "visualise_embeddings(embedding_matrix, labels, label_names)"
      ]
    },
    {
      "cell_type": "markdown",
      "metadata": {
        "id": "Az5s4Tne9kpP"
      },
      "source": [
        "Now, open tensorboard by running the next cell:"
      ]
    },
    {
      "cell_type": "code",
      "execution_count": null,
      "metadata": {
        "id": "05Z5kKGA9kpP"
      },
      "outputs": [],
      "source": [
        "%load_ext tensorboard\n",
        "%tensorboard --logdir runs\n"
      ]
    },
    {
      "cell_type": "markdown",
      "metadata": {
        "id": "nidbLlpr9kpQ"
      },
      "source": [
        "_Note that this is a 3D projection of much higher dimensional embeddings, so most information is lost when we visualise it._"
      ]
    }
  ],
  "metadata": {
    "kernelspec": {
      "display_name": "huggingface1",
      "language": "python",
      "name": "python3"
    },
    "language_info": {
      "codemirror_mode": {
        "name": "ipython",
        "version": 3
      },
      "file_extension": ".py",
      "mimetype": "text/x-python",
      "name": "python",
      "nbconvert_exporter": "python",
      "pygments_lexer": "ipython3",
      "version": "3.10.8"
    },
    "vscode": {
      "interpreter": {
        "hash": "e36d4b688d7e3685ae8ad6703c0e99019531dd9f05b6e8f8c82292a1f759bcdc"
      }
    },
    "colab": {
      "provenance": [],
      "include_colab_link": true
    },
    "widgets": {
      "application/vnd.jupyter.widget-state+json": {
        "bcd0a0c2da7945638e28e14338a3c29b": {
          "model_module": "@jupyter-widgets/controls",
          "model_name": "HBoxModel",
          "model_module_version": "1.5.0",
          "state": {
            "_dom_classes": [],
            "_model_module": "@jupyter-widgets/controls",
            "_model_module_version": "1.5.0",
            "_model_name": "HBoxModel",
            "_view_count": null,
            "_view_module": "@jupyter-widgets/controls",
            "_view_module_version": "1.5.0",
            "_view_name": "HBoxView",
            "box_style": "",
            "children": [
              "IPY_MODEL_a2bfb765049b4c3bbc8db2fc403fec0c",
              "IPY_MODEL_38c3eddb896047e48eefbe906c83c174",
              "IPY_MODEL_990b05cce4eb4dbe939a86467d74febb"
            ],
            "layout": "IPY_MODEL_0a6e6c0d3279469f83428996d2275a19"
          }
        },
        "a2bfb765049b4c3bbc8db2fc403fec0c": {
          "model_module": "@jupyter-widgets/controls",
          "model_name": "HTMLModel",
          "model_module_version": "1.5.0",
          "state": {
            "_dom_classes": [],
            "_model_module": "@jupyter-widgets/controls",
            "_model_module_version": "1.5.0",
            "_model_name": "HTMLModel",
            "_view_count": null,
            "_view_module": "@jupyter-widgets/controls",
            "_view_module_version": "1.5.0",
            "_view_name": "HTMLView",
            "description": "",
            "description_tooltip": null,
            "layout": "IPY_MODEL_2f732a4989134469aa00097d448e5a60",
            "placeholder": "​",
            "style": "IPY_MODEL_33d755969990423b89ae41675909b845",
            "value": "Downloading (…)lve/main/config.json: 100%"
          }
        },
        "38c3eddb896047e48eefbe906c83c174": {
          "model_module": "@jupyter-widgets/controls",
          "model_name": "FloatProgressModel",
          "model_module_version": "1.5.0",
          "state": {
            "_dom_classes": [],
            "_model_module": "@jupyter-widgets/controls",
            "_model_module_version": "1.5.0",
            "_model_name": "FloatProgressModel",
            "_view_count": null,
            "_view_module": "@jupyter-widgets/controls",
            "_view_module_version": "1.5.0",
            "_view_name": "ProgressView",
            "bar_style": "success",
            "description": "",
            "description_tooltip": null,
            "layout": "IPY_MODEL_c8ea2a9da8a14d529f226053da23693b",
            "max": 570,
            "min": 0,
            "orientation": "horizontal",
            "style": "IPY_MODEL_9995e6f4c68f41979990e57fafb0de51",
            "value": 570
          }
        },
        "990b05cce4eb4dbe939a86467d74febb": {
          "model_module": "@jupyter-widgets/controls",
          "model_name": "HTMLModel",
          "model_module_version": "1.5.0",
          "state": {
            "_dom_classes": [],
            "_model_module": "@jupyter-widgets/controls",
            "_model_module_version": "1.5.0",
            "_model_name": "HTMLModel",
            "_view_count": null,
            "_view_module": "@jupyter-widgets/controls",
            "_view_module_version": "1.5.0",
            "_view_name": "HTMLView",
            "description": "",
            "description_tooltip": null,
            "layout": "IPY_MODEL_28d38bf1820f480f8b6f8916a7fb7d68",
            "placeholder": "​",
            "style": "IPY_MODEL_208ee5f4945e409ea43ea7e0206a3d2e",
            "value": " 570/570 [00:00&lt;00:00, 13.7kB/s]"
          }
        },
        "0a6e6c0d3279469f83428996d2275a19": {
          "model_module": "@jupyter-widgets/base",
          "model_name": "LayoutModel",
          "model_module_version": "1.2.0",
          "state": {
            "_model_module": "@jupyter-widgets/base",
            "_model_module_version": "1.2.0",
            "_model_name": "LayoutModel",
            "_view_count": null,
            "_view_module": "@jupyter-widgets/base",
            "_view_module_version": "1.2.0",
            "_view_name": "LayoutView",
            "align_content": null,
            "align_items": null,
            "align_self": null,
            "border": null,
            "bottom": null,
            "display": null,
            "flex": null,
            "flex_flow": null,
            "grid_area": null,
            "grid_auto_columns": null,
            "grid_auto_flow": null,
            "grid_auto_rows": null,
            "grid_column": null,
            "grid_gap": null,
            "grid_row": null,
            "grid_template_areas": null,
            "grid_template_columns": null,
            "grid_template_rows": null,
            "height": null,
            "justify_content": null,
            "justify_items": null,
            "left": null,
            "margin": null,
            "max_height": null,
            "max_width": null,
            "min_height": null,
            "min_width": null,
            "object_fit": null,
            "object_position": null,
            "order": null,
            "overflow": null,
            "overflow_x": null,
            "overflow_y": null,
            "padding": null,
            "right": null,
            "top": null,
            "visibility": null,
            "width": null
          }
        },
        "2f732a4989134469aa00097d448e5a60": {
          "model_module": "@jupyter-widgets/base",
          "model_name": "LayoutModel",
          "model_module_version": "1.2.0",
          "state": {
            "_model_module": "@jupyter-widgets/base",
            "_model_module_version": "1.2.0",
            "_model_name": "LayoutModel",
            "_view_count": null,
            "_view_module": "@jupyter-widgets/base",
            "_view_module_version": "1.2.0",
            "_view_name": "LayoutView",
            "align_content": null,
            "align_items": null,
            "align_self": null,
            "border": null,
            "bottom": null,
            "display": null,
            "flex": null,
            "flex_flow": null,
            "grid_area": null,
            "grid_auto_columns": null,
            "grid_auto_flow": null,
            "grid_auto_rows": null,
            "grid_column": null,
            "grid_gap": null,
            "grid_row": null,
            "grid_template_areas": null,
            "grid_template_columns": null,
            "grid_template_rows": null,
            "height": null,
            "justify_content": null,
            "justify_items": null,
            "left": null,
            "margin": null,
            "max_height": null,
            "max_width": null,
            "min_height": null,
            "min_width": null,
            "object_fit": null,
            "object_position": null,
            "order": null,
            "overflow": null,
            "overflow_x": null,
            "overflow_y": null,
            "padding": null,
            "right": null,
            "top": null,
            "visibility": null,
            "width": null
          }
        },
        "33d755969990423b89ae41675909b845": {
          "model_module": "@jupyter-widgets/controls",
          "model_name": "DescriptionStyleModel",
          "model_module_version": "1.5.0",
          "state": {
            "_model_module": "@jupyter-widgets/controls",
            "_model_module_version": "1.5.0",
            "_model_name": "DescriptionStyleModel",
            "_view_count": null,
            "_view_module": "@jupyter-widgets/base",
            "_view_module_version": "1.2.0",
            "_view_name": "StyleView",
            "description_width": ""
          }
        },
        "c8ea2a9da8a14d529f226053da23693b": {
          "model_module": "@jupyter-widgets/base",
          "model_name": "LayoutModel",
          "model_module_version": "1.2.0",
          "state": {
            "_model_module": "@jupyter-widgets/base",
            "_model_module_version": "1.2.0",
            "_model_name": "LayoutModel",
            "_view_count": null,
            "_view_module": "@jupyter-widgets/base",
            "_view_module_version": "1.2.0",
            "_view_name": "LayoutView",
            "align_content": null,
            "align_items": null,
            "align_self": null,
            "border": null,
            "bottom": null,
            "display": null,
            "flex": null,
            "flex_flow": null,
            "grid_area": null,
            "grid_auto_columns": null,
            "grid_auto_flow": null,
            "grid_auto_rows": null,
            "grid_column": null,
            "grid_gap": null,
            "grid_row": null,
            "grid_template_areas": null,
            "grid_template_columns": null,
            "grid_template_rows": null,
            "height": null,
            "justify_content": null,
            "justify_items": null,
            "left": null,
            "margin": null,
            "max_height": null,
            "max_width": null,
            "min_height": null,
            "min_width": null,
            "object_fit": null,
            "object_position": null,
            "order": null,
            "overflow": null,
            "overflow_x": null,
            "overflow_y": null,
            "padding": null,
            "right": null,
            "top": null,
            "visibility": null,
            "width": null
          }
        },
        "9995e6f4c68f41979990e57fafb0de51": {
          "model_module": "@jupyter-widgets/controls",
          "model_name": "ProgressStyleModel",
          "model_module_version": "1.5.0",
          "state": {
            "_model_module": "@jupyter-widgets/controls",
            "_model_module_version": "1.5.0",
            "_model_name": "ProgressStyleModel",
            "_view_count": null,
            "_view_module": "@jupyter-widgets/base",
            "_view_module_version": "1.2.0",
            "_view_name": "StyleView",
            "bar_color": null,
            "description_width": ""
          }
        },
        "28d38bf1820f480f8b6f8916a7fb7d68": {
          "model_module": "@jupyter-widgets/base",
          "model_name": "LayoutModel",
          "model_module_version": "1.2.0",
          "state": {
            "_model_module": "@jupyter-widgets/base",
            "_model_module_version": "1.2.0",
            "_model_name": "LayoutModel",
            "_view_count": null,
            "_view_module": "@jupyter-widgets/base",
            "_view_module_version": "1.2.0",
            "_view_name": "LayoutView",
            "align_content": null,
            "align_items": null,
            "align_self": null,
            "border": null,
            "bottom": null,
            "display": null,
            "flex": null,
            "flex_flow": null,
            "grid_area": null,
            "grid_auto_columns": null,
            "grid_auto_flow": null,
            "grid_auto_rows": null,
            "grid_column": null,
            "grid_gap": null,
            "grid_row": null,
            "grid_template_areas": null,
            "grid_template_columns": null,
            "grid_template_rows": null,
            "height": null,
            "justify_content": null,
            "justify_items": null,
            "left": null,
            "margin": null,
            "max_height": null,
            "max_width": null,
            "min_height": null,
            "min_width": null,
            "object_fit": null,
            "object_position": null,
            "order": null,
            "overflow": null,
            "overflow_x": null,
            "overflow_y": null,
            "padding": null,
            "right": null,
            "top": null,
            "visibility": null,
            "width": null
          }
        },
        "208ee5f4945e409ea43ea7e0206a3d2e": {
          "model_module": "@jupyter-widgets/controls",
          "model_name": "DescriptionStyleModel",
          "model_module_version": "1.5.0",
          "state": {
            "_model_module": "@jupyter-widgets/controls",
            "_model_module_version": "1.5.0",
            "_model_name": "DescriptionStyleModel",
            "_view_count": null,
            "_view_module": "@jupyter-widgets/base",
            "_view_module_version": "1.2.0",
            "_view_name": "StyleView",
            "description_width": ""
          }
        },
        "024d471429e34e4fb2e0f483438dbd7a": {
          "model_module": "@jupyter-widgets/controls",
          "model_name": "HBoxModel",
          "model_module_version": "1.5.0",
          "state": {
            "_dom_classes": [],
            "_model_module": "@jupyter-widgets/controls",
            "_model_module_version": "1.5.0",
            "_model_name": "HBoxModel",
            "_view_count": null,
            "_view_module": "@jupyter-widgets/controls",
            "_view_module_version": "1.5.0",
            "_view_name": "HBoxView",
            "box_style": "",
            "children": [
              "IPY_MODEL_11b6c262fdb74be4bcbeeb878cba3f2f",
              "IPY_MODEL_7895fbc3c1174e50a1bf4603c63d417f",
              "IPY_MODEL_bb9bb4d320ee4e48b2d6318cdc513b94"
            ],
            "layout": "IPY_MODEL_7108d084e7ad43f8bb3fc0b07a7debeb"
          }
        },
        "11b6c262fdb74be4bcbeeb878cba3f2f": {
          "model_module": "@jupyter-widgets/controls",
          "model_name": "HTMLModel",
          "model_module_version": "1.5.0",
          "state": {
            "_dom_classes": [],
            "_model_module": "@jupyter-widgets/controls",
            "_model_module_version": "1.5.0",
            "_model_name": "HTMLModel",
            "_view_count": null,
            "_view_module": "@jupyter-widgets/controls",
            "_view_module_version": "1.5.0",
            "_view_name": "HTMLView",
            "description": "",
            "description_tooltip": null,
            "layout": "IPY_MODEL_50c805bf01ed4b9382db4192a74f7cd1",
            "placeholder": "​",
            "style": "IPY_MODEL_821076f21e5a4cdfaff4f6c9f6cddf9f",
            "value": "Downloading (…)&quot;pytorch_model.bin&quot;;: 100%"
          }
        },
        "7895fbc3c1174e50a1bf4603c63d417f": {
          "model_module": "@jupyter-widgets/controls",
          "model_name": "FloatProgressModel",
          "model_module_version": "1.5.0",
          "state": {
            "_dom_classes": [],
            "_model_module": "@jupyter-widgets/controls",
            "_model_module_version": "1.5.0",
            "_model_name": "FloatProgressModel",
            "_view_count": null,
            "_view_module": "@jupyter-widgets/controls",
            "_view_module_version": "1.5.0",
            "_view_name": "ProgressView",
            "bar_style": "success",
            "description": "",
            "description_tooltip": null,
            "layout": "IPY_MODEL_4dc7db01195442c7b9c8006e2c43831e",
            "max": 440473133,
            "min": 0,
            "orientation": "horizontal",
            "style": "IPY_MODEL_6ffb6056699c45298e94b58fa9859b80",
            "value": 440473133
          }
        },
        "bb9bb4d320ee4e48b2d6318cdc513b94": {
          "model_module": "@jupyter-widgets/controls",
          "model_name": "HTMLModel",
          "model_module_version": "1.5.0",
          "state": {
            "_dom_classes": [],
            "_model_module": "@jupyter-widgets/controls",
            "_model_module_version": "1.5.0",
            "_model_name": "HTMLModel",
            "_view_count": null,
            "_view_module": "@jupyter-widgets/controls",
            "_view_module_version": "1.5.0",
            "_view_name": "HTMLView",
            "description": "",
            "description_tooltip": null,
            "layout": "IPY_MODEL_20edeb3fc5da4e14ae7b22cd15692395",
            "placeholder": "​",
            "style": "IPY_MODEL_98e76f1796d842e2b59ceb25574ec2e1",
            "value": " 440M/440M [00:01&lt;00:00, 306MB/s]"
          }
        },
        "7108d084e7ad43f8bb3fc0b07a7debeb": {
          "model_module": "@jupyter-widgets/base",
          "model_name": "LayoutModel",
          "model_module_version": "1.2.0",
          "state": {
            "_model_module": "@jupyter-widgets/base",
            "_model_module_version": "1.2.0",
            "_model_name": "LayoutModel",
            "_view_count": null,
            "_view_module": "@jupyter-widgets/base",
            "_view_module_version": "1.2.0",
            "_view_name": "LayoutView",
            "align_content": null,
            "align_items": null,
            "align_self": null,
            "border": null,
            "bottom": null,
            "display": null,
            "flex": null,
            "flex_flow": null,
            "grid_area": null,
            "grid_auto_columns": null,
            "grid_auto_flow": null,
            "grid_auto_rows": null,
            "grid_column": null,
            "grid_gap": null,
            "grid_row": null,
            "grid_template_areas": null,
            "grid_template_columns": null,
            "grid_template_rows": null,
            "height": null,
            "justify_content": null,
            "justify_items": null,
            "left": null,
            "margin": null,
            "max_height": null,
            "max_width": null,
            "min_height": null,
            "min_width": null,
            "object_fit": null,
            "object_position": null,
            "order": null,
            "overflow": null,
            "overflow_x": null,
            "overflow_y": null,
            "padding": null,
            "right": null,
            "top": null,
            "visibility": null,
            "width": null
          }
        },
        "50c805bf01ed4b9382db4192a74f7cd1": {
          "model_module": "@jupyter-widgets/base",
          "model_name": "LayoutModel",
          "model_module_version": "1.2.0",
          "state": {
            "_model_module": "@jupyter-widgets/base",
            "_model_module_version": "1.2.0",
            "_model_name": "LayoutModel",
            "_view_count": null,
            "_view_module": "@jupyter-widgets/base",
            "_view_module_version": "1.2.0",
            "_view_name": "LayoutView",
            "align_content": null,
            "align_items": null,
            "align_self": null,
            "border": null,
            "bottom": null,
            "display": null,
            "flex": null,
            "flex_flow": null,
            "grid_area": null,
            "grid_auto_columns": null,
            "grid_auto_flow": null,
            "grid_auto_rows": null,
            "grid_column": null,
            "grid_gap": null,
            "grid_row": null,
            "grid_template_areas": null,
            "grid_template_columns": null,
            "grid_template_rows": null,
            "height": null,
            "justify_content": null,
            "justify_items": null,
            "left": null,
            "margin": null,
            "max_height": null,
            "max_width": null,
            "min_height": null,
            "min_width": null,
            "object_fit": null,
            "object_position": null,
            "order": null,
            "overflow": null,
            "overflow_x": null,
            "overflow_y": null,
            "padding": null,
            "right": null,
            "top": null,
            "visibility": null,
            "width": null
          }
        },
        "821076f21e5a4cdfaff4f6c9f6cddf9f": {
          "model_module": "@jupyter-widgets/controls",
          "model_name": "DescriptionStyleModel",
          "model_module_version": "1.5.0",
          "state": {
            "_model_module": "@jupyter-widgets/controls",
            "_model_module_version": "1.5.0",
            "_model_name": "DescriptionStyleModel",
            "_view_count": null,
            "_view_module": "@jupyter-widgets/base",
            "_view_module_version": "1.2.0",
            "_view_name": "StyleView",
            "description_width": ""
          }
        },
        "4dc7db01195442c7b9c8006e2c43831e": {
          "model_module": "@jupyter-widgets/base",
          "model_name": "LayoutModel",
          "model_module_version": "1.2.0",
          "state": {
            "_model_module": "@jupyter-widgets/base",
            "_model_module_version": "1.2.0",
            "_model_name": "LayoutModel",
            "_view_count": null,
            "_view_module": "@jupyter-widgets/base",
            "_view_module_version": "1.2.0",
            "_view_name": "LayoutView",
            "align_content": null,
            "align_items": null,
            "align_self": null,
            "border": null,
            "bottom": null,
            "display": null,
            "flex": null,
            "flex_flow": null,
            "grid_area": null,
            "grid_auto_columns": null,
            "grid_auto_flow": null,
            "grid_auto_rows": null,
            "grid_column": null,
            "grid_gap": null,
            "grid_row": null,
            "grid_template_areas": null,
            "grid_template_columns": null,
            "grid_template_rows": null,
            "height": null,
            "justify_content": null,
            "justify_items": null,
            "left": null,
            "margin": null,
            "max_height": null,
            "max_width": null,
            "min_height": null,
            "min_width": null,
            "object_fit": null,
            "object_position": null,
            "order": null,
            "overflow": null,
            "overflow_x": null,
            "overflow_y": null,
            "padding": null,
            "right": null,
            "top": null,
            "visibility": null,
            "width": null
          }
        },
        "6ffb6056699c45298e94b58fa9859b80": {
          "model_module": "@jupyter-widgets/controls",
          "model_name": "ProgressStyleModel",
          "model_module_version": "1.5.0",
          "state": {
            "_model_module": "@jupyter-widgets/controls",
            "_model_module_version": "1.5.0",
            "_model_name": "ProgressStyleModel",
            "_view_count": null,
            "_view_module": "@jupyter-widgets/base",
            "_view_module_version": "1.2.0",
            "_view_name": "StyleView",
            "bar_color": null,
            "description_width": ""
          }
        },
        "20edeb3fc5da4e14ae7b22cd15692395": {
          "model_module": "@jupyter-widgets/base",
          "model_name": "LayoutModel",
          "model_module_version": "1.2.0",
          "state": {
            "_model_module": "@jupyter-widgets/base",
            "_model_module_version": "1.2.0",
            "_model_name": "LayoutModel",
            "_view_count": null,
            "_view_module": "@jupyter-widgets/base",
            "_view_module_version": "1.2.0",
            "_view_name": "LayoutView",
            "align_content": null,
            "align_items": null,
            "align_self": null,
            "border": null,
            "bottom": null,
            "display": null,
            "flex": null,
            "flex_flow": null,
            "grid_area": null,
            "grid_auto_columns": null,
            "grid_auto_flow": null,
            "grid_auto_rows": null,
            "grid_column": null,
            "grid_gap": null,
            "grid_row": null,
            "grid_template_areas": null,
            "grid_template_columns": null,
            "grid_template_rows": null,
            "height": null,
            "justify_content": null,
            "justify_items": null,
            "left": null,
            "margin": null,
            "max_height": null,
            "max_width": null,
            "min_height": null,
            "min_width": null,
            "object_fit": null,
            "object_position": null,
            "order": null,
            "overflow": null,
            "overflow_x": null,
            "overflow_y": null,
            "padding": null,
            "right": null,
            "top": null,
            "visibility": null,
            "width": null
          }
        },
        "98e76f1796d842e2b59ceb25574ec2e1": {
          "model_module": "@jupyter-widgets/controls",
          "model_name": "DescriptionStyleModel",
          "model_module_version": "1.5.0",
          "state": {
            "_model_module": "@jupyter-widgets/controls",
            "_model_module_version": "1.5.0",
            "_model_name": "DescriptionStyleModel",
            "_view_count": null,
            "_view_module": "@jupyter-widgets/base",
            "_view_module_version": "1.2.0",
            "_view_name": "StyleView",
            "description_width": ""
          }
        }
      }
    }
  },
  "nbformat": 4,
  "nbformat_minor": 0
}